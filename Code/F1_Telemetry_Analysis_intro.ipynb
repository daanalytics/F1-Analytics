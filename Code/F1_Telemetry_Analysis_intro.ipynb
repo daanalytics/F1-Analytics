{
  "cells": [
    {
      "cell_type": "markdown",
      "metadata": {
        "colab_type": "text",
        "id": "view-in-github"
      },
      "source": [
        "<a href=\"https://colab.research.google.com/github/daanalytics/F1-Analytics/blob/main/Code/F1_Telemetry_Analysis_intro.ipynb\" target=\"_parent\"><img src=\"https://colab.research.google.com/assets/colab-badge.svg\" alt=\"Open In Colab\"/></a>"
      ]
    },
    {
      "cell_type": "code",
      "execution_count": null,
      "metadata": {
        "colab": {
          "base_uri": "https://localhost:8080/"
        },
        "id": "J-cChMyuEwRB",
        "outputId": "13262001-b2e5-422a-825e-5b9ea04da26f"
      },
      "outputs": [],
      "source": [
        "%pip install fastf1"
      ]
    },
    {
      "cell_type": "code",
      "execution_count": null,
      "metadata": {
        "id": "aJtGxmv2GDw_"
      },
      "outputs": [],
      "source": [
        "import fastf1"
      ]
    },
    {
      "cell_type": "code",
      "execution_count": null,
      "metadata": {
        "colab": {
          "base_uri": "https://localhost:8080/"
        },
        "id": "Ld7IhesPGQTo",
        "outputId": "20fe4f7c-46ca-49bb-f0dc-97cffb6e99ce"
      },
      "outputs": [],
      "source": [
        "from google.colab import drive\n",
        "drive.mount('/content/drive/')"
      ]
    },
    {
      "cell_type": "code",
      "execution_count": null,
      "metadata": {
        "colab": {
          "base_uri": "https://localhost:8080/"
        },
        "id": "eapz61VaG6QX",
        "outputId": "9fcbfaba-810b-4ddf-a0ea-013be59bd880"
      },
      "outputs": [],
      "source": [
        "%cd '/content/drive/MyDrive/Colab Notebooks/'"
      ]
    },
    {
      "cell_type": "code",
      "execution_count": null,
      "metadata": {
        "id": "Itvz8FLkG8s6"
      },
      "outputs": [],
      "source": [
        "fastf1.Cache.enable_cache('Cache')"
      ]
    },
    {
      "cell_type": "code",
      "execution_count": null,
      "metadata": {
        "colab": {
          "base_uri": "https://localhost:8080/"
        },
        "id": "ICd3x2FiHG2H",
        "outputId": "230b46e0-8b85-45d7-d38d-0450352d4c0b"
      },
      "outputs": [],
      "source": [
        "year= 2023\n",
        "gp = 'Saudi Arabia'\n",
        "event = 'R'\n",
        "session_race = fastf1.get_session(year, gp, event)\n",
        "session_race.load()"
      ]
    },
    {
      "cell_type": "code",
      "execution_count": null,
      "metadata": {
        "colab": {
          "base_uri": "https://localhost:8080/",
          "height": 1000
        },
        "id": "hcaYIY8IHcC_",
        "outputId": "5456bd6c-7b4d-43e2-c142-41af46f03da2"
      },
      "outputs": [],
      "source": [
        "session_race.results"
      ]
    },
    {
      "cell_type": "code",
      "execution_count": null,
      "metadata": {
        "colab": {
          "base_uri": "https://localhost:8080/",
          "height": 1000
        },
        "id": "uKb9-Dx1HhoT",
        "outputId": "1e7f510c-58e1-4f8d-dc4e-685f7666fa32"
      },
      "outputs": [],
      "source": [
        "year= 2022\n",
        "gp = 'Singapore'\n",
        "event = 'R'\n",
        "session_race = fastf1.get_session(year, gp, event)\n",
        "session_race.load()\n",
        "session_race.results"
      ]
    }
  ],
  "metadata": {
    "colab": {
      "authorship_tag": "ABX9TyNXT4fbffOtkzrFtuKmzqql",
      "include_colab_link": true,
      "provenance": []
    },
    "kernelspec": {
      "display_name": "Python 3",
      "name": "python3"
    },
    "language_info": {
      "codemirror_mode": {
        "name": "ipython",
        "version": 3
      },
      "file_extension": ".py",
      "mimetype": "text/x-python",
      "name": "python",
      "nbconvert_exporter": "python",
      "pygments_lexer": "ipython3",
      "version": "3.10.13"
    }
  },
  "nbformat": 4,
  "nbformat_minor": 0
}
